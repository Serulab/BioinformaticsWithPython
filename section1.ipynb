{
  "nbformat": 4,
  "nbformat_minor": 0,
  "metadata": {
    "colab": {
      "name": "section1.ipynb",
      "version": "0.3.2",
      "provenance": [],
      "collapsed_sections": [],
      "include_colab_link": true
    },
    "kernelspec": {
      "name": "python3",
      "display_name": "Python 3"
    }
  },
  "cells": [
    {
      "cell_type": "markdown",
      "metadata": {
        "id": "view-in-github",
        "colab_type": "text"
      },
      "source": [
        "<a href=\"https://colab.research.google.com/github/Serulab/BioinformaticsWithPython/blob/master/section1.ipynb\" target=\"_parent\"><img src=\"https://colab.research.google.com/assets/colab-badge.svg\" alt=\"Open In Colab\"/></a>"
      ]
    },
    {
      "metadata": {
        "id": "LF4PnoSwZnYM",
        "colab_type": "text"
      },
      "cell_type": "markdown",
      "source": [
        "# Processing DNA Sequences in Batch"
      ]
    },
    {
      "metadata": {
        "id": "u0XjAP5pY0cS",
        "colab_type": "text"
      },
      "cell_type": "markdown",
      "source": [
        "# Convert multiple sequences in Genbank format into FASTA format."
      ]
    },
    {
      "metadata": {
        "id": "-6RqPWqEhUZy",
        "colab_type": "code",
        "outputId": "8e0d694e-ff9e-45b1-f05c-05ee227fe363",
        "colab": {
          "base_uri": "https://localhost:8080/",
          "height": 50
        }
      },
      "cell_type": "code",
      "source": [
        "!pip install biopython"
      ],
      "execution_count": 1,
      "outputs": [
        {
          "output_type": "stream",
          "text": [
            "Requirement already satisfied: biopython in /usr/local/lib/python3.6/dist-packages (1.73)\n",
            "Requirement already satisfied: numpy in /usr/local/lib/python3.6/dist-packages (from biopython) (1.14.6)\n"
          ],
          "name": "stdout"
        }
      ]
    },
    {
      "metadata": {
        "id": "wLwgPhiOU4vR",
        "colab_type": "code",
        "outputId": "adad29e6-ef56-427a-8dc0-af3dd794fbbb",
        "colab": {
          "base_uri": "https://localhost:8080/",
          "height": 34
        }
      },
      "cell_type": "code",
      "source": [
        "import requests\n",
        "\n",
        "url = 'https://raw.githubusercontent.com/Serulab/Py4Bio/master/samples/casein.gb'\n",
        "input_file_name = url.split('/')[-1]\n",
        "response = requests.get(url)\n",
        "open(input_file_name, 'wb').write(response.content)\n"
      ],
      "execution_count": 2,
      "outputs": [
        {
          "output_type": "execute_result",
          "data": {
            "text/plain": [
              "31550"
            ]
          },
          "metadata": {
            "tags": []
          },
          "execution_count": 2
        }
      ]
    },
    {
      "metadata": {
        "id": "R5HCC2mMaCho",
        "colab_type": "code",
        "colab": {}
      },
      "cell_type": "code",
      "source": [
        "from Bio import SeqIO\n",
        "\n",
        "with open(input_file_name, 'r') as input_handle:\n",
        "    sequences = SeqIO.parse(input_handle, 'genbank')\n",
        "    with open('casein.fasta', 'w') as output_handle:\n",
        "        SeqIO.write(sequences, output_handle, 'fasta')\n"
      ],
      "execution_count": 0,
      "outputs": []
    },
    {
      "metadata": {
        "id": "QoqwlYqJlxCW",
        "colab_type": "code",
        "colab": {}
      },
      "cell_type": "code",
      "source": [
        "with open(\"casein.fasta\") as output_handle:\n",
        "    print(output_handle.read())"
      ],
      "execution_count": 0,
      "outputs": []
    },
    {
      "metadata": {
        "id": "JkcFgJkiYpXa",
        "colab_type": "text"
      },
      "cell_type": "markdown",
      "source": [
        "# Split a FASTA file with multiple sequences into several files, one file per sequence."
      ]
    },
    {
      "metadata": {
        "id": "KPyhhI9MZ4hv",
        "colab_type": "code",
        "colab": {}
      },
      "cell_type": "code",
      "source": [
        "# Using casein.fasta file generated in previous code\n",
        "with open(\"casein.fasta\") as input_handle:\n",
        "    sequences = SeqIO.parse(input_handle, 'fasta')\n",
        "    for sequence in sequences:\n",
        "        SeqIO.write(sequence, sequence.name, \"fasta\")"
      ],
      "execution_count": 0,
      "outputs": []
    },
    {
      "metadata": {
        "id": "PngHjgS9c2qb",
        "colab_type": "code",
        "colab": {
          "base_uri": "https://localhost:8080/",
          "height": 67
        },
        "outputId": "0ed27d75-c3f1-4168-cc11-660881c829c7"
      },
      "cell_type": "code",
      "source": [
        "!ls"
      ],
      "execution_count": 16,
      "outputs": [
        {
          "output_type": "stream",
          "text": [
            "casein.fasta  EU221557.1  EU221567.1  EU221570.1  EU221573.1\n",
            "casein.gb     EU221562.1  EU221568.1  EU221571.1  FJ429671.1\n",
            "EU221552.1    EU221565.1  EU221569.1  EU221572.1  sample_data\n"
          ],
          "name": "stdout"
        }
      ]
    },
    {
      "metadata": {
        "id": "NXvF7XgYc6Ny",
        "colab_type": "code",
        "colab": {
          "base_uri": "https://localhost:8080/",
          "height": 118
        },
        "outputId": "cb9a9101-d1ef-444f-8eaf-406c56addc27"
      },
      "cell_type": "code",
      "source": [
        "!cat FJ429671.1"
      ],
      "execution_count": 17,
      "outputs": [
        {
          "output_type": "stream",
          "text": [
            ">FJ429671.1 Bison bison alpha s1 casein (CSN1S1) gene, exon 12 and partial cds\n",
            "TTTCTCATTATTTACTCCTGGGAAAGGGATACTATGATAGACGGTATCCACGAAATTGAC\n",
            "AATATTTTTTCTTTTGAATAGGAACAGCTTCTCAGACTGAAAAAATACAAAGTACCCCAG\n",
            "CTGGTAATATTTTATTATAATAATACAAAATTAAGTCTACAGAATTAAAATAATTAAATG\n",
            "AAATTTACTTTGACTAAATTCTACATCAAATCATGTTAGAGCCTCCCAAATGATTCGTTA\n",
            "TACTCTGGAA\n"
          ],
          "name": "stdout"
        }
      ]
    },
    {
      "metadata": {
        "id": "XjkNKMBeY9Mg",
        "colab_type": "text"
      },
      "cell_type": "markdown",
      "source": [
        "# Convert multiple sequences into a Python dictionary."
      ]
    },
    {
      "metadata": {
        "id": "RMvbtFEWZ5f9",
        "colab_type": "code",
        "colab": {
          "base_uri": "https://localhost:8080/",
          "height": 101
        },
        "outputId": "50718275-0e8f-4f40-bcd2-5abffb4b0ef2"
      },
      "cell_type": "code",
      "source": [
        "record_dict = SeqIO.to_dict(SeqIO.parse(\"casein.fasta\", \"fasta\"))\n",
        "print(record_dict[\"FJ429671.1\"])  # use any record ID"
      ],
      "execution_count": 19,
      "outputs": [
        {
          "output_type": "stream",
          "text": [
            "ID: FJ429671.1\n",
            "Name: FJ429671.1\n",
            "Description: FJ429671.1 Bison bison alpha s1 casein (CSN1S1) gene, exon 12 and partial cds\n",
            "Number of features: 0\n",
            "Seq('TTTCTCATTATTTACTCCTGGGAAAGGGATACTATGATAGACGGTATCCACGAA...GAA', SingleLetterAlphabet())\n"
          ],
          "name": "stdout"
        }
      ]
    },
    {
      "metadata": {
        "id": "iNxKxwp-Y9dL",
        "colab_type": "text"
      },
      "cell_type": "markdown",
      "source": [
        "# Extracting sequences applying a filtering criteria like having a minimum length."
      ]
    },
    {
      "metadata": {
        "id": "cQCsjR8PZ6LB",
        "colab_type": "code",
        "colab": {
          "base_uri": "https://localhost:8080/",
          "height": 50
        },
        "outputId": "2a8ca21b-9dcc-4e1a-d813-de6cc5a7827c"
      },
      "cell_type": "code",
      "source": [
        "# Using casein.fasta file generated in the first code\n",
        "MIN_SEQ_LENGTH = 400\n",
        "sequences = SeqIO.parse(\"casein.fasta\", 'fasta')\n",
        "filtered = []\n",
        "for total, sequence in enumerate(sequences):\n",
        "    if len(sequence.seq) > MIN_SEQ_LENGTH:\n",
        "      filtered.append(sequence)\n",
        "      \n",
        "print(\"total sequences: {}\".format(total))\n",
        "print(\"after filter sequences: {}\".format(len(filtered)))\n"
      ],
      "execution_count": 26,
      "outputs": [
        {
          "output_type": "stream",
          "text": [
            "total sequences: 11\n",
            "after filter sequences: 4\n"
          ],
          "name": "stdout"
        }
      ]
    }
  ]
}