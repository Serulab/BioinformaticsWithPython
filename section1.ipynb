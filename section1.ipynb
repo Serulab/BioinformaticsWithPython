{
  "nbformat": 4,
  "nbformat_minor": 0,
  "metadata": {
    "colab": {
      "name": "section1.ipynb",
      "version": "0.3.2",
      "provenance": [],
      "include_colab_link": true
    },
    "kernelspec": {
      "name": "python3",
      "display_name": "Python 3"
    }
  },
  "cells": [
    {
      "cell_type": "markdown",
      "metadata": {
        "id": "view-in-github",
        "colab_type": "text"
      },
      "source": [
        "<a href=\"https://colab.research.google.com/github/Serulab/BioinformaticsWithPython/blob/master/section1.ipynb\" target=\"_parent\"><img src=\"https://colab.research.google.com/assets/colab-badge.svg\" alt=\"Open In Colab\"/></a>"
      ]
    },
    {
      "metadata": {
        "id": "-6RqPWqEhUZy",
        "colab_type": "code",
        "colab": {}
      },
      "cell_type": "code",
      "source": [
        "!pip install biopython"
      ],
      "execution_count": 0,
      "outputs": []
    },
    {
      "metadata": {
        "id": "wLwgPhiOU4vR",
        "colab_type": "code",
        "colab": {}
      },
      "cell_type": "code",
      "source": [
        "import requests\n",
        "\n",
        "url = 'https://raw.githubusercontent.com/Serulab/Py4Bio/master/samples/casein.gb'\n",
        "input_file_name = url.split('/')[-1]\n",
        "response = requests.get(url)\n",
        "open(input_file_name, 'wb').write(response.content)\n"
      ],
      "execution_count": 0,
      "outputs": []
    },
    {
      "metadata": {
        "id": "R5HCC2mMaCho",
        "colab_type": "code",
        "colab": {}
      },
      "cell_type": "code",
      "source": [
        "from Bio import SeqIO\n",
        "\n",
        "with open(input_file_name, \"r\") as input_handle:\n",
        "    sequences = SeqIO.parse(input_handle, \"genbank\")\n",
        "    with open(\"casein.fasta\", \"w\") as output_handle:\n",
        "        SeqIO.write(sequences, output_handle, \"fasta\")\n"
      ],
      "execution_count": 0,
      "outputs": []
    },
    {
      "metadata": {
        "id": "QoqwlYqJlxCW",
        "colab_type": "code",
        "colab": {}
      },
      "cell_type": "code",
      "source": [
        "with open(\"casein.fasta\") as output_handle:\n",
        "    print(output_handle.read())"
      ],
      "execution_count": 0,
      "outputs": []
    }
  ]
}